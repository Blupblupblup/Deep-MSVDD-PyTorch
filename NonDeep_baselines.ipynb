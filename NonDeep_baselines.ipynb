{
 "cells": [
  {
   "cell_type": "markdown",
   "id": "33dee702",
   "metadata": {},
   "source": [
    "Use scikit-learn implementation of Isolation Forest, One Class SVM and Local Outlier Factor for comparison. This notebook applies the 3 non-deep AD methods with and without PCA dimensionality reduction beforehand. A PCA dimensionality reduction preserving 95% of the data variance was used for shallow baselines in both DeepSVDD and DeepMSVDD papers."
   ]
  },
  {
   "cell_type": "code",
   "execution_count": 1,
   "id": "3f7e2ba8",
   "metadata": {},
   "outputs": [
    {
     "data": {
      "text/html": [
       "<style>.container { width:100% !important; }</style>"
      ],
      "text/plain": [
       "<IPython.core.display.HTML object>"
      ]
     },
     "metadata": {},
     "output_type": "display_data"
    }
   ],
   "source": [
    "from IPython.core.display import display, HTML, Markdown\n",
    "display(HTML(\"<style>.container { width:100% !important; }</style>\"))"
   ]
  },
  {
   "cell_type": "code",
   "execution_count": 2,
   "id": "24cb3cb4",
   "metadata": {},
   "outputs": [],
   "source": [
    "import torch.utils.data as data_utils\n",
    "import torch\n",
    "import random\n",
    "import matplotlib.pyplot as plt\n",
    "from seaborn import boxplot\n",
    "from sklearn.decomposition import PCA\n",
    "from sklearn.ensemble import IsolationForest\n",
    "from sklearn.neighbors import LocalOutlierFactor\n",
    "from sklearn.svm import OneClassSVM\n",
    "from sklearn.metrics import roc_auc_score\n",
    "import numpy as np\n",
    "from tqdm import tqdm\n",
    "from utils import *"
   ]
  },
  {
   "cell_type": "code",
   "execution_count": 3,
   "id": "c21ce5b7",
   "metadata": {},
   "outputs": [],
   "source": [
    "# dataset = 'MNIST'\n",
    "dataset = 'FashionMNIST'\n",
    "# dataset = 'CIFAR10'\n",
    "normal_cls = [0,1,2]\n",
    "nbr_seeds = 3 # how many different random init to try"
   ]
  },
  {
   "cell_type": "code",
   "execution_count": 4,
   "id": "876a8ff8",
   "metadata": {},
   "outputs": [],
   "source": [
    "pca = PCA(n_components=0.95,svd_solver='full')"
   ]
  },
  {
   "cell_type": "markdown",
   "id": "1b7f1c18",
   "metadata": {},
   "source": [
    "# IF, OC-SVM and LOF without PCA dimensionality reduction"
   ]
  },
  {
   "cell_type": "code",
   "execution_count": 5,
   "id": "15525a1b",
   "metadata": {},
   "outputs": [
    {
     "name": "stderr",
     "output_type": "stream",
     "text": [
      "  0%|          | 0/3 [00:00<?, ?it/s]/home/blupon/anaconda3/envs/recent/lib/python3.9/site-packages/torchvision/datasets/mnist.py:498: UserWarning: The given NumPy array is not writeable, and PyTorch does not support non-writeable tensors. This means you can write to the underlying (supposedly non-writeable) NumPy array using the tensor. You may want to copy the array to protect its data or make it writeable before converting it to a tensor. This type of warning will be suppressed for the rest of this program. (Triggered internally at  /opt/conda/conda-bld/pytorch_1631630797748/work/torch/csrc/utils/tensor_numpy.cpp:180.)\n",
      "  return torch.from_numpy(parsed.astype(m[2], copy=False)).view(*s)\n",
      "100%|██████████| 3/3 [00:18<00:00,  6.33s/it]"
     ]
    },
    {
     "name": "stdout",
     "output_type": "stream",
     "text": [
      "MEAN VALID AUC +/- STD: 0.8286018371582031 +/- 0.008531280793249607\n",
      "MEAN TEST AUC +/- STD: 0.8212025761604309 +/- 0.004212884698063135\n"
     ]
    },
    {
     "name": "stderr",
     "output_type": "stream",
     "text": [
      "\n"
     ]
    },
    {
     "data": {
      "image/png": "[encoded data removed]",
      "text/plain": [
       "<Figure size 432x288 with 1 Axes>"
      ]
     },
     "metadata": {
      "needs_background": "light"
     },
     "output_type": "display_data"
    }
   ],
   "source": [
    "valid_AUCs = torch.zeros((nbr_seeds,))\n",
    "test_AUCs = torch.zeros((nbr_seeds,))\n",
    "\n",
    "for seed_idx in tqdm(range(nbr_seeds)):\n",
    "    \n",
    "    torch.manual_seed(seed_idx)\n",
    "    random.seed(seed_idx)\n",
    "    np.random.seed(seed_idx)\n",
    "    \n",
    "    # 128 is batch_size, useless parameter here but we re-use the deep models import function for consistency\n",
    "    _, _, _, x_train, y_train, x_valid, y_valid, x_test, y_test = get_dataloaders_MNIST_FashionMNIST(128, normal_cls, dataset, seed=seed_idx)\n",
    "    \n",
    "    x_train = np.reshape(x_train, (x_train.shape[0], -1)) / 255\n",
    "    x_valid = np.reshape(x_valid, (x_valid.shape[0], -1)) / 255\n",
    "    x_test = np.reshape(x_test, (x_test.shape[0], -1)) / 255\n",
    "    \n",
    "    y_valid_AD = convert_labels(y_valid, normal_cls)\n",
    "    y_test_AD = convert_labels(y_test, normal_cls)\n",
    "    \n",
    "    clf = IsolationForest(random_state=seed_idx).fit(x_train)\n",
    "    y_score_val = clf.decision_function(x_valid)\n",
    "    y_score_test = clf.decision_function(x_test)\n",
    "    \n",
    "    valid_AUCs[seed_idx] = roc_auc_score(y_valid_AD, y_score_val*-1)\n",
    "    test_AUCs[seed_idx] = roc_auc_score(y_test_AD, y_score_test*-1)\n",
    "\n",
    "print(\"MEAN VALID AUC +/- STD: {} +/- {}\".format(torch.mean(valid_AUCs),torch.std(valid_AUCs)))\n",
    "print(\"MEAN TEST AUC +/- STD: {} +/- {}\".format(torch.mean(test_AUCs),torch.std(test_AUCs)))\n",
    "\n",
    "plt.figure()\n",
    "boxplot(y=y_score_test, x=y_test, showfliers=False)\n",
    "plt.xlabel('{} class'.format(dataset))\n",
    "plt.ylabel('Scores for each {} class'.format(dataset))\n",
    "plt.title('Normal classes: {}\\nLAST SEED EXPERIMENT ONLY'.format(normal_cls))\n",
    "\n",
    "with open('last_results.txt', \"a\") as file:\n",
    "    file.write(\"IF-{}-Norm{}-{}seeds - MEAN TEST AUC +/- STD: {} +/- {}\\n\".format(dataset, normal_cls, nbr_seeds, torch.mean(test_AUCs),torch.std(test_AUCs)))"
   ]
  },
  {
   "cell_type": "code",
   "execution_count": 6,
   "id": "da7d71a9",
   "metadata": {},
   "outputs": [
    {
     "name": "stderr",
     "output_type": "stream",
     "text": [
      "100%|██████████| 3/3 [01:31<00:00, 30.36s/it]"
     ]
    },
    {
     "name": "stdout",
     "output_type": "stream",
     "text": [
      "MEAN VALID AUC +/- STD: 0.7892044186592102 +/- 0.003036376554518938\n",
      "MEAN TEST AUC +/- STD: 0.7815338969230652 +/- 0.005380204878747463\n"
     ]
    },
    {
     "name": "stderr",
     "output_type": "stream",
     "text": [
      "\n"
     ]
    },
    {
     "data": {
      "image/png": "[encoded data removed]",
      "text/plain": [
       "<Figure size 432x288 with 1 Axes>"
      ]
     },
     "metadata": {
      "needs_background": "light"
     },
     "output_type": "display_data"
    }
   ],
   "source": [
    "valid_AUCs = torch.zeros((nbr_seeds,))\n",
    "test_AUCs = torch.zeros((nbr_seeds,))\n",
    "\n",
    "for seed_idx in tqdm(range(nbr_seeds)):\n",
    "    \n",
    "    torch.manual_seed(seed_idx)\n",
    "    random.seed(seed_idx)\n",
    "    np.random.seed(seed_idx)\n",
    "    \n",
    "    # 128 is batch_size, useless parameter here but we re-use the deep models import function for consistency\n",
    "    _, _, _, x_train, y_train, x_valid, y_valid, x_test, y_test = get_dataloaders_MNIST_FashionMNIST(128, normal_cls, dataset, seed=seed_idx)\n",
    "    \n",
    "    x_train = np.reshape(x_train, (x_train.shape[0], -1)) / 255\n",
    "    x_valid = np.reshape(x_valid, (x_valid.shape[0], -1)) / 255\n",
    "    x_test = np.reshape(x_test, (x_test.shape[0], -1)) / 255\n",
    "    \n",
    "    y_valid_AD = convert_labels(y_valid, normal_cls)\n",
    "    y_test_AD = convert_labels(y_test, normal_cls)\n",
    "    \n",
    "    clf = OneClassSVM(nu=0.1).fit(x_train)\n",
    "    y_score_val = clf.decision_function(x_valid)\n",
    "    y_score_test = clf.decision_function(x_test)\n",
    "    \n",
    "    valid_AUCs[seed_idx] = roc_auc_score(y_valid_AD, y_score_val*-1)\n",
    "    test_AUCs[seed_idx] = roc_auc_score(y_test_AD, y_score_test*-1)\n",
    "\n",
    "print(\"MEAN VALID AUC +/- STD: {} +/- {}\".format(torch.mean(valid_AUCs),torch.std(valid_AUCs)))\n",
    "print(\"MEAN TEST AUC +/- STD: {} +/- {}\".format(torch.mean(test_AUCs),torch.std(test_AUCs)))\n",
    "\n",
    "plt.figure()\n",
    "boxplot(y=y_score_test, x=y_test, showfliers=False)\n",
    "plt.xlabel('{} class'.format(dataset))\n",
    "plt.ylabel('Scores for each {} class'.format(dataset))\n",
    "plt.title('Normal classes: {}\\nLAST SEED EXPERIMENT ONLY'.format(normal_cls))\n",
    "\n",
    "with open('last_results.txt', \"a\") as file:\n",
    "    file.write(\"OCSVM-{}-Norm{}-{}seeds - MEAN TEST AUC +/- STD: {} +/- {}\\n\".format(dataset, normal_cls, nbr_seeds, torch.mean(test_AUCs),torch.std(test_AUCs)))"
   ]
  },
  {
   "cell_type": "code",
   "execution_count": 7,
   "id": "b2c191bf",
   "metadata": {},
   "outputs": [
    {
     "name": "stderr",
     "output_type": "stream",
     "text": [
      "100%|██████████| 3/3 [00:29<00:00,  9.86s/it]"
     ]
    },
    {
     "name": "stdout",
     "output_type": "stream",
     "text": [
      "MEAN VALID AUC +/- STD: 0.865561306476593 +/- 0.0013079264899715781\n",
      "MEAN TEST AUC +/- STD: 0.8641157150268555 +/- 0.0077929929830133915\n"
     ]
    },
    {
     "name": "stderr",
     "output_type": "stream",
     "text": [
      "\n"
     ]
    },
    {
     "data": {
      "image/png": "[encoded data removed]",
      "text/plain": [
       "<Figure size 432x288 with 1 Axes>"
      ]
     },
     "metadata": {
      "needs_background": "light"
     },
     "output_type": "display_data"
    }
   ],
   "source": [
    "valid_AUCs = torch.zeros((nbr_seeds,))\n",
    "test_AUCs = torch.zeros((nbr_seeds,))\n",
    "\n",
    "for seed_idx in tqdm(range(nbr_seeds)):\n",
    "    \n",
    "    torch.manual_seed(seed_idx)\n",
    "    random.seed(seed_idx)\n",
    "    np.random.seed(seed_idx)\n",
    "    \n",
    "    # 128 is batch_size, useless parameter here but we re-use the deep models import function for consistency\n",
    "    _, _, _, x_train, y_train, x_valid, y_valid, x_test, y_test = get_dataloaders_MNIST_FashionMNIST(128, normal_cls, dataset, seed=seed_idx)\n",
    "    \n",
    "    x_train = np.reshape(x_train, (x_train.shape[0], -1)) / 255\n",
    "    x_valid = np.reshape(x_valid, (x_valid.shape[0], -1)) / 255\n",
    "    x_test = np.reshape(x_test, (x_test.shape[0], -1)) / 255\n",
    "    \n",
    "    y_valid_AD = convert_labels(y_valid, normal_cls)\n",
    "    y_test_AD = convert_labels(y_test, normal_cls)\n",
    "    \n",
    "    clf = LocalOutlierFactor(n_neighbors=64, contamination=0.1, novelty=True).fit(x_train)\n",
    "    y_score_val = clf.decision_function(x_valid)\n",
    "    y_score_test = clf.decision_function(x_test)\n",
    "    \n",
    "    valid_AUCs[seed_idx] = roc_auc_score(y_valid_AD, y_score_val*-1)\n",
    "    test_AUCs[seed_idx] = roc_auc_score(y_test_AD, y_score_test*-1)\n",
    "\n",
    "print(\"MEAN VALID AUC +/- STD: {} +/- {}\".format(torch.mean(valid_AUCs),torch.std(valid_AUCs)))\n",
    "print(\"MEAN TEST AUC +/- STD: {} +/- {}\".format(torch.mean(test_AUCs),torch.std(test_AUCs)))\n",
    "\n",
    "plt.figure()\n",
    "boxplot(y=y_score_test, x=y_test, showfliers=False)\n",
    "plt.xlabel('{} class'.format(dataset))\n",
    "plt.ylabel('Scores for each {} class'.format(dataset))\n",
    "plt.title('Normal classes: {}\\nLAST SEED EXPERIMENT ONLY'.format(normal_cls))\n",
    "\n",
    "with open('last_results.txt', \"a\") as file:\n",
    "    file.write(\"LOF-{}-Norm{}-{}seeds - MEAN TEST AUC +/- STD: {} +/- {}\\n\".format(dataset, normal_cls, nbr_seeds, torch.mean(test_AUCs),torch.std(test_AUCs)))"
   ]
  },
  {
   "cell_type": "markdown",
   "id": "a2543dd9",
   "metadata": {},
   "source": [
    "# IF, OC-SVM and LOF with PCA dimensionality reduction"
   ]
  },
  {
   "cell_type": "code",
   "execution_count": 8,
   "id": "b0281885",
   "metadata": {},
   "outputs": [
    {
     "name": "stderr",
     "output_type": "stream",
     "text": [
      "100%|██████████| 3/3 [00:06<00:00,  2.00s/it]\n"
     ]
    },
    {
     "name": "stdout",
     "output_type": "stream",
     "text": [
      "MEAN VALID AUC +/- STD: 0.8462562561035156 +/- 0.006732582114636898\n",
      "MEAN TEST AUC +/- STD: 0.8434601426124573 +/- 0.01108610164374113\n"
     ]
    },
    {
     "data": {
      "image/png": "[encoded data removed]",
      "text/plain": [
       "<Figure size 432x288 with 1 Axes>"
      ]
     },
     "metadata": {
      "needs_background": "light"
     },
     "output_type": "display_data"
    }
   ],
   "source": [
    "valid_AUCs = torch.zeros((nbr_seeds,))\n",
    "test_AUCs = torch.zeros((nbr_seeds,))\n",
    "\n",
    "for seed_idx in tqdm(range(nbr_seeds)):\n",
    "    \n",
    "    torch.manual_seed(seed_idx)\n",
    "    random.seed(seed_idx)\n",
    "    np.random.seed(seed_idx)\n",
    "    \n",
    "    # 128 is batch_size, useless parameter here but we re-use the deep models import function for consistency\n",
    "    _, _, _, x_train, y_train, x_valid, y_valid, x_test, y_test = get_dataloaders_MNIST_FashionMNIST(128, normal_cls, dataset, seed=seed_idx)\n",
    "    \n",
    "    x_train = np.reshape(x_train, (x_train.shape[0], -1)) / 255\n",
    "    x_valid = np.reshape(x_valid, (x_valid.shape[0], -1)) / 255\n",
    "    x_test = np.reshape(x_test, (x_test.shape[0], -1)) / 255\n",
    "    \n",
    "    x_train = pca.fit_transform(x_train)\n",
    "    x_valid = pca.transform(x_valid)\n",
    "    x_test = pca.transform(x_test)\n",
    "    \n",
    "    y_valid_AD = convert_labels(y_valid, normal_cls)\n",
    "    y_test_AD = convert_labels(y_test, normal_cls)\n",
    "    \n",
    "    clf = IsolationForest(random_state=seed_idx).fit(x_train)\n",
    "    y_score_val = clf.decision_function(x_valid)\n",
    "    y_score_test = clf.decision_function(x_test)\n",
    "    \n",
    "    valid_AUCs[seed_idx] = roc_auc_score(y_valid_AD, y_score_val*-1)\n",
    "    test_AUCs[seed_idx] = roc_auc_score(y_test_AD, y_score_test*-1)\n",
    "\n",
    "print(\"MEAN VALID AUC +/- STD: {} +/- {}\".format(torch.mean(valid_AUCs),torch.std(valid_AUCs)))\n",
    "print(\"MEAN TEST AUC +/- STD: {} +/- {}\".format(torch.mean(test_AUCs),torch.std(test_AUCs)))\n",
    "\n",
    "plt.figure()\n",
    "boxplot(y=y_score_test, x=y_test, showfliers=False)\n",
    "plt.xlabel('{} class'.format(dataset))\n",
    "plt.ylabel('Scores for each {} class'.format(dataset))\n",
    "plt.title('Normal classes: {}\\nLAST SEED EXPERIMENT ONLY'.format(normal_cls))\n",
    "\n",
    "with open('last_results.txt', \"a\") as file:\n",
    "    file.write(\"IF-PCA-{}-Norm{}-{}seeds - MEAN TEST AUC +/- STD: {} +/- {}\\n\".format(dataset, normal_cls, nbr_seeds, torch.mean(test_AUCs),torch.std(test_AUCs)))"
   ]
  },
  {
   "cell_type": "code",
   "execution_count": 9,
   "id": "6f4cd23b",
   "metadata": {},
   "outputs": [
    {
     "name": "stderr",
     "output_type": "stream",
     "text": [
      "100%|██████████| 3/3 [00:24<00:00,  8.15s/it]"
     ]
    },
    {
     "name": "stdout",
     "output_type": "stream",
     "text": [
      "MEAN VALID AUC +/- STD: 0.782134473323822 +/- 0.004652039147913456\n",
      "MEAN TEST AUC +/- STD: 0.7723626494407654 +/- 0.005159242078661919\n"
     ]
    },
    {
     "name": "stderr",
     "output_type": "stream",
     "text": [
      "\n"
     ]
    },
    {
     "data": {
      "image/png": "[encoded data removed]",
      "text/plain": [
       "<Figure size 432x288 with 1 Axes>"
      ]
     },
     "metadata": {
      "needs_background": "light"
     },
     "output_type": "display_data"
    }
   ],
   "source": [
    "valid_AUCs = torch.zeros((nbr_seeds,))\n",
    "test_AUCs = torch.zeros((nbr_seeds,))\n",
    "\n",
    "for seed_idx in tqdm(range(nbr_seeds)):\n",
    "    \n",
    "    torch.manual_seed(seed_idx)\n",
    "    random.seed(seed_idx)\n",
    "    np.random.seed(seed_idx)\n",
    "    \n",
    "    # 128 is batch_size, useless parameter here but we re-use the deep models import function for consistency\n",
    "    _, _, _, x_train, y_train, x_valid, y_valid, x_test, y_test = get_dataloaders_MNIST_FashionMNIST(128, normal_cls, dataset, seed=seed_idx)\n",
    "    \n",
    "    x_train = np.reshape(x_train, (x_train.shape[0], -1)) / 255\n",
    "    x_valid = np.reshape(x_valid, (x_valid.shape[0], -1)) / 255\n",
    "    x_test = np.reshape(x_test, (x_test.shape[0], -1)) / 255\n",
    "    \n",
    "    x_train = pca.fit_transform(x_train)\n",
    "    x_valid = pca.transform(x_valid)\n",
    "    x_test = pca.transform(x_test)\n",
    "    \n",
    "    y_valid_AD = convert_labels(y_valid, normal_cls)\n",
    "    y_test_AD = convert_labels(y_test, normal_cls)\n",
    "    \n",
    "    clf = OneClassSVM(nu=0.1).fit(x_train)\n",
    "    y_score_val = clf.decision_function(x_valid)\n",
    "    y_score_test = clf.decision_function(x_test)\n",
    "    \n",
    "    valid_AUCs[seed_idx] = roc_auc_score(y_valid_AD, y_score_val*-1)\n",
    "    test_AUCs[seed_idx] = roc_auc_score(y_test_AD, y_score_test*-1)\n",
    "\n",
    "print(\"MEAN VALID AUC +/- STD: {} +/- {}\".format(torch.mean(valid_AUCs),torch.std(valid_AUCs)))\n",
    "print(\"MEAN TEST AUC +/- STD: {} +/- {}\".format(torch.mean(test_AUCs),torch.std(test_AUCs)))\n",
    "\n",
    "plt.figure()\n",
    "boxplot(y=y_score_test, x=y_test, showfliers=False)\n",
    "plt.xlabel('{} class'.format(dataset))\n",
    "plt.ylabel('Scores for each {} class'.format(dataset))\n",
    "plt.title('Normal classes: {}\\nLAST SEED EXPERIMENT ONLY'.format(normal_cls))\n",
    "\n",
    "with open('last_results.txt', \"a\") as file:\n",
    "    file.write(\"OCSVM-PCA-{}-Norm{}-{}seeds - MEAN TEST AUC +/- STD: {} +/- {}\\n\".format(dataset, normal_cls, nbr_seeds, torch.mean(test_AUCs),torch.std(test_AUCs)))"
   ]
  },
  {
   "cell_type": "code",
   "execution_count": 10,
   "id": "f968f566",
   "metadata": {},
   "outputs": [
    {
     "name": "stderr",
     "output_type": "stream",
     "text": [
      "100%|██████████| 3/3 [00:21<00:00,  7.27s/it]"
     ]
    },
    {
     "name": "stdout",
     "output_type": "stream",
     "text": [
      "MEAN VALID AUC +/- STD: 0.8596253395080566 +/- 0.0031973335426300764\n",
      "MEAN TEST AUC +/- STD: 0.8559381365776062 +/- 0.00891717430204153\n"
     ]
    },
    {
     "name": "stderr",
     "output_type": "stream",
     "text": [
      "\n"
     ]
    },
    {
     "data": {
      "image/png": "[encoded data removed]",
      "text/plain": [
       "<Figure size 432x288 with 1 Axes>"
      ]
     },
     "metadata": {
      "needs_background": "light"
     },
     "output_type": "display_data"
    }
   ],
   "source": [
    "valid_AUCs = torch.zeros((nbr_seeds,))\n",
    "test_AUCs = torch.zeros((nbr_seeds,))\n",
    "\n",
    "for seed_idx in tqdm(range(nbr_seeds)):\n",
    "    \n",
    "    torch.manual_seed(seed_idx)\n",
    "    random.seed(seed_idx)\n",
    "    np.random.seed(seed_idx)\n",
    "    \n",
    "    # 128 is batch_size, useless parameter here but we re-use the deep models import function for consistency\n",
    "    _, _, _, x_train, y_train, x_valid, y_valid, x_test, y_test = get_dataloaders_MNIST_FashionMNIST(128, normal_cls, dataset, seed=seed_idx)\n",
    "    \n",
    "    x_train = np.reshape(x_train, (x_train.shape[0], -1)) / 255\n",
    "    x_valid = np.reshape(x_valid, (x_valid.shape[0], -1)) / 255\n",
    "    x_test = np.reshape(x_test, (x_test.shape[0], -1)) / 255\n",
    "    \n",
    "    x_train = pca.fit_transform(x_train)\n",
    "    x_valid = pca.transform(x_valid)\n",
    "    x_test = pca.transform(x_test)\n",
    "    \n",
    "    y_valid_AD = convert_labels(y_valid, normal_cls)\n",
    "    y_test_AD = convert_labels(y_test, normal_cls)\n",
    "    \n",
    "    clf = LocalOutlierFactor(n_neighbors=64, contamination=0.1, novelty=True).fit(x_train)\n",
    "    y_score_val = clf.decision_function(x_valid)\n",
    "    y_score_test = clf.decision_function(x_test)\n",
    "    \n",
    "    valid_AUCs[seed_idx] = roc_auc_score(y_valid_AD, y_score_val*-1)\n",
    "    test_AUCs[seed_idx] = roc_auc_score(y_test_AD, y_score_test*-1)\n",
    "\n",
    "print(\"MEAN VALID AUC +/- STD: {} +/- {}\".format(torch.mean(valid_AUCs),torch.std(valid_AUCs)))\n",
    "print(\"MEAN TEST AUC +/- STD: {} +/- {}\".format(torch.mean(test_AUCs),torch.std(test_AUCs)))\n",
    "\n",
    "plt.figure()\n",
    "boxplot(y=y_score_test, x=y_test, showfliers=False)\n",
    "plt.xlabel('{} class'.format(dataset))\n",
    "plt.ylabel('Scores for each {} class'.format(dataset))\n",
    "plt.title('Normal classes: {}\\nLAST SEED EXPERIMENT ONLY'.format(normal_cls))\n",
    "\n",
    "with open('last_results.txt', \"a\") as file:\n",
    "    file.write(\"LOF-PCA-{}-Norm{}-{}seeds - MEAN TEST AUC +/- STD: {} +/- {}\\n\".format(dataset, normal_cls, nbr_seeds, torch.mean(test_AUCs),torch.std(test_AUCs)))"
   ]
  },
  {
   "cell_type": "code",
   "execution_count": null,
   "id": "individual-judge",
   "metadata": {},
   "outputs": [],
   "source": []
  }
 ],
 "metadata": {
  "kernelspec": {
   "display_name": "Python 3 (ipykernel)",
   "language": "python",
   "name": "python3"
  },
  "language_info": {
   "codemirror_mode": {
    "name": "ipython",
    "version": 3
   },
   "file_extension": ".py",
   "mimetype": "text/x-python",
   "name": "python",
   "nbconvert_exporter": "python",
   "pygments_lexer": "ipython3",
   "version": "3.8.10"
  }
 },
 "nbformat": 4,
 "nbformat_minor": 5
}
